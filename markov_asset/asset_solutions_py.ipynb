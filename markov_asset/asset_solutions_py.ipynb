{
 "cells": [
  {
   "cell_type": "markdown",
   "metadata": {},
   "source": [
    "# quant-econ Solutions: The Lucas Asset Pricing Model"
   ]
  },
  {
   "cell_type": "markdown",
   "metadata": {},
   "source": [
    "Solutions for http://quant-econ.net/py/markov_asset.html"
   ]
  },
  {
   "cell_type": "code",
   "execution_count": 8,
   "metadata": {
    "collapsed": true
   },
   "outputs": [],
   "source": [
    "import numpy as np\n",
    "import quantecon as qe"
   ]
  },
  {
   "cell_type": "markdown",
   "metadata": {},
   "source": [
    "Next we load the code from the lectures into a cell to have access to the functions"
   ]
  },
  {
   "cell_type": "code",
   "execution_count": 9,
   "metadata": {
    "collapsed": false
   },
   "outputs": [],
   "source": [
    "# %load https://raw.githubusercontent.com/QuantEcon/QuantEcon.applications/master/markov_asset/asset_pricing.py\n",
    "\"\"\"\n",
    "Filename: asset_pricing.py\n",
    "\n",
    "Computes asset prices in a Lucas endowment economy when the endowment obeys\n",
    "geometric growth driven by a finite state Markov chain.  That is,\n",
    "\n",
    ".. math::\n",
    "    d_{t+1} = X_{t+1} d_t\n",
    "\n",
    "where :math:`\\{X_t\\}` is a finite Markov chain with transition matrix P.\n",
    "\n",
    "References\n",
    "----------\n",
    "\n",
    "    http://quant-econ.net/py/markov_asset.html\n",
    "\n",
    "\"\"\"\n",
    "import numpy as np\n",
    "from numpy.linalg import solve\n",
    "\n",
    "\n",
    "class AssetPriceModel:\n",
    "    r\"\"\"\n",
    "    A class that stores the primitives of the asset pricing model, plus a few\n",
    "    useful matrices as attributes\n",
    "\n",
    "    Parameters\n",
    "    ----------\n",
    "    beta : scalar, float\n",
    "        Discount factor\n",
    "    mc : MarkovChain\n",
    "        Contains the transition matrix and set of state values for the state\n",
    "        proces\n",
    "    gamma : scalar(float)\n",
    "        Coefficient of risk aversion\n",
    "\n",
    "    Attributes\n",
    "    ----------\n",
    "    beta, mc, gamm : as above\n",
    "\n",
    "    P_tilde : ndarray\n",
    "        The matrix :math:`P(x, y) y^(1 - \\gamma)`\n",
    "\n",
    "    P_tilde : ndarray\n",
    "        The matrix :math:`P(x, y) y^(\\gamma)`\n",
    "\n",
    "    \"\"\"\n",
    "    def __init__(self, beta, mc, gamma):\n",
    "        self.beta, self.mc, self.gamma = beta, mc, gamma\n",
    "        self.n = self.mc.P.shape[0]\n",
    "\n",
    "    @property\n",
    "    def P_tilde(self):\n",
    "        P = self.mc.P\n",
    "        y = self.mc.state_values\n",
    "        return P * y**(1 - self.gamma)  # using broadcasting\n",
    "\n",
    "    @property\n",
    "    def P_check(self):\n",
    "        P = self.mc.P\n",
    "        y = self.mc.state_values\n",
    "        return P * y**(-self.gamma)  # using broadcasting\n",
    "\n",
    "\n",
    "\n",
    "def tree_price(apm):\n",
    "    \"\"\"\n",
    "    Computes the price-dividend ratio of the Lucas tree.\n",
    "\n",
    "    Parameters\n",
    "    ----------\n",
    "    apm: AssetPriceModel\n",
    "        An instance of AssetPriceModel containing primitives\n",
    "\n",
    "    Returns\n",
    "    -------\n",
    "    v : array_like(float)\n",
    "        Lucas tree price-dividend ratio\n",
    "\n",
    "    \"\"\"\n",
    "    # == Simplify names == #\n",
    "    beta = apm.beta\n",
    "    P_tilde = apm.P_tilde\n",
    "\n",
    "    # == Compute v == #\n",
    "    I = np.identity(apm.n)\n",
    "    O = np.ones(apm.n)\n",
    "    v = beta * solve(I - beta * P_tilde, P_tilde @ O)\n",
    "\n",
    "    return v\n",
    "\n",
    "\n",
    "def consol_price(apm, zeta):\n",
    "    \"\"\"\n",
    "    Computes price of a consol bond with payoff zeta\n",
    "\n",
    "    Parameters\n",
    "    ----------\n",
    "    apm: AssetPriceModel\n",
    "        An instance of AssetPriceModel containing primitives\n",
    "\n",
    "    zeta : scalar(float)\n",
    "        Coupon of the console\n",
    "\n",
    "    Returns\n",
    "    -------\n",
    "    p_bar : array_like(float)\n",
    "        Console bond prices\n",
    "\n",
    "    \"\"\"\n",
    "    # == Simplify names == #\n",
    "    beta = apm.beta\n",
    "\n",
    "    # == Compute price == #\n",
    "    P_check = apm.P_check\n",
    "    I = np.identity(apm.n)\n",
    "    O = np.ones(apm.n)\n",
    "    p_bar = beta * solve(I - beta * P_check, P_check.dot(zeta * O))\n",
    "\n",
    "    return p_bar\n",
    "\n",
    "\n",
    "def call_option(apm, zeta, p_s, T=[], epsilon=1e-8):\n",
    "    \"\"\"\n",
    "    Computes price of a call option on a consol bond, both finite\n",
    "    and infinite horizon\n",
    "\n",
    "    Parameters\n",
    "    ----------\n",
    "    apm: AssetPriceModel\n",
    "        An instance of AssetPriceModel containing primitives\n",
    "\n",
    "    zeta : scalar(float)\n",
    "        Coupon of the console\n",
    "\n",
    "    p_s : scalar(float)\n",
    "        Strike price\n",
    "\n",
    "    T : iterable(integers)\n",
    "        Length of option in the finite horizon case\n",
    "\n",
    "    epsilon : scalar(float), optional(default=1e-8)\n",
    "        Tolerance for infinite horizon problem\n",
    "\n",
    "    Returns\n",
    "    -------\n",
    "    w_bar : array_like(float)\n",
    "        Infinite horizon call option prices\n",
    "\n",
    "    w_bars : dict\n",
    "        A dictionary of key-value pairs {t: vec}, where t is one of\n",
    "        the dates in the list T and vec is the option prices at that\n",
    "        date\n",
    "\n",
    "    \"\"\"\n",
    "    # == Simplify names, initialize variables == #\n",
    "    beta = apm.beta\n",
    "    P_check = apm.P_check\n",
    "\n",
    "    # == Compute consol price == #\n",
    "    v_bar = consol_price(apm, zeta)\n",
    "\n",
    "    # == Compute option price == #\n",
    "    w_bar = np.zeros(apm.n)\n",
    "    error = epsilon + 1\n",
    "    t = 0\n",
    "    w_bars = {}\n",
    "    while error > epsilon:\n",
    "        if t in T:\n",
    "            w_bars[t] = w_bar\n",
    "\n",
    "        # == Maximize across columns == #\n",
    "        to_stack = (beta*P_check.dot(w_bar), v_bar-p_s)\n",
    "        w_bar_new = np.amax(np.vstack(to_stack), axis=0)\n",
    "\n",
    "        # == Find maximal difference of each component == #\n",
    "        error = np.amax(np.abs(w_bar-w_bar_new))\n",
    "\n",
    "        # == Update == #\n",
    "        w_bar = w_bar_new\n",
    "        t += 1\n",
    "\n",
    "    return w_bar, w_bars\n"
   ]
  },
  {
   "cell_type": "markdown",
   "metadata": {},
   "source": [
    "## Exercise 1"
   ]
  },
  {
   "cell_type": "markdown",
   "metadata": {},
   "source": [
    "First let's enter the parameters:"
   ]
  },
  {
   "cell_type": "code",
   "execution_count": 11,
   "metadata": {
    "collapsed": true
   },
   "outputs": [],
   "source": [
    "# parameters for object\n",
    "n = 5\n",
    "P = 0.0125 * np.ones((n, n))\n",
    "P += np.diag(0.95 - 0.0125 * np.ones(5))\n",
    "s = np.array([1.05, 1.025, 1.0, 0.975, 0.95])  # state values\n",
    "mc = qe.MarkovChain(P, state_values=s)\n",
    "\n",
    "gamma = 2.0\n",
    "beta = 0.94\n",
    "zeta = 1.0\n",
    "p_s = 150.0"
   ]
  },
  {
   "cell_type": "markdown",
   "metadata": {},
   "source": [
    "Next we'll create an instance of `AssetPriceModel` to feed into the functions."
   ]
  },
  {
   "cell_type": "code",
   "execution_count": 12,
   "metadata": {
    "collapsed": true
   },
   "outputs": [],
   "source": [
    "apm = AssetPriceModel(beta, mc, gamma)"
   ]
  },
  {
   "cell_type": "markdown",
   "metadata": {},
   "source": [
    "Now we just need to call the relevent functions on the data:"
   ]
  },
  {
   "cell_type": "code",
   "execution_count": 13,
   "metadata": {
    "collapsed": false
   },
   "outputs": [
    {
     "data": {
      "text/plain": [
       "array([ 12.72221763,  14.72515002,  17.57142236,  21.93570661,  29.47401578])"
      ]
     },
     "execution_count": 13,
     "metadata": {},
     "output_type": "execute_result"
    }
   ],
   "source": [
    "tree_price(apm)"
   ]
  },
  {
   "cell_type": "code",
   "execution_count": 14,
   "metadata": {
    "collapsed": false
   },
   "outputs": [
    {
     "data": {
      "text/plain": [
       "array([  87.56860139,  109.25108965,  148.67554548,  242.55144082,\n",
       "        753.87100476])"
      ]
     },
     "execution_count": 14,
     "metadata": {},
     "output_type": "execute_result"
    }
   ],
   "source": [
    "consol_price(apm, zeta)"
   ]
  },
  {
   "cell_type": "code",
   "execution_count": 15,
   "metadata": {
    "collapsed": false
   },
   "outputs": [
    {
     "data": {
      "text/plain": [
       "(array([  64.30843769,   80.05179282,  108.67734545,  176.83933585,\n",
       "         603.87100476]), {})"
      ]
     },
     "execution_count": 15,
     "metadata": {},
     "output_type": "execute_result"
    }
   ],
   "source": [
    "call_option(apm, zeta, p_s)"
   ]
  },
  {
   "cell_type": "code",
   "execution_count": null,
   "metadata": {
    "collapsed": false
   },
   "outputs": [],
   "source": []
  }
 ],
 "metadata": {
  "kernelspec": {
   "display_name": "Python 3",
   "language": "python",
   "name": "python3"
  },
  "language_info": {
   "codemirror_mode": {
    "name": "ipython",
    "version": 3
   },
   "file_extension": ".py",
   "mimetype": "text/x-python",
   "name": "python",
   "nbconvert_exporter": "python",
   "pygments_lexer": "ipython3",
   "version": "3.5.1"
  }
 },
 "nbformat": 4,
 "nbformat_minor": 0
}
