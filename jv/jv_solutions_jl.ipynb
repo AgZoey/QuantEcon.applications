{
 "cells": [
  {
   "cell_type": "markdown",
   "metadata": {},
   "source": [
    "# quant-econ Solutions: On-the-Job Search\n",
    "\n",
    "Solutions for http://quant-econ.net/jl/jv.html"
   ]
  },
  {
   "cell_type": "code",
   "execution_count": 2,
   "metadata": {
    "collapsed": false
   },
   "outputs": [
    {
     "data": {
      "text/plain": [
       "get_greedy (generic function with 1 method)"
      ]
     },
     "execution_count": 2,
     "metadata": {},
     "output_type": "execute_result"
    }
   ],
   "source": [
    "using QuantEcon\n",
    "include(\"jv.jl\")\n",
    "using Grid\n",
    "using PyPlot"
   ]
  },
  {
   "cell_type": "markdown",
   "metadata": {},
   "source": [
    "## Exercise 1\n",
    "\n",
    "Here's code to produce the 45 degree diagram"
   ]
  },
  {
   "cell_type": "code",
   "execution_count": null,
   "metadata": {
    "collapsed": false
   },
   "outputs": [],
   "source": [
    "wp = JvWorker(grid_size=25)\n",
    "G, pi_func, F = wp.G, wp.pi_func, wp.F       # Simplify names\n",
    "\n",
    "v_init = [wp.x_grid * 0.5]\n",
    "println(\"Computing value function\")\n",
    "f(x) = bellman_operator(wp, x)\n",
    "V = compute_fixed_point(f, v_init, max_iter=40)\n",
    "println(\"Computing policy functions\")\n",
    "s_policy, phi_policy = bellman_operator(wp, V, ret_policies=true)\n",
    "\n",
    "# Turn the policy function arrays into CoordInterpGrid objects for interpolatino\n",
    "s = CoordInterpGrid(wp.x_grid, s_policy, BCnearest, InterpLinear)\n",
    "phi = CoordInterpGrid(wp.x_grid, phi_policy, BCnearest, InterpLinear)\n",
    "\n",
    "\n",
    "h(x, b, U) = (1-b) * G(x, phi[x]) + b*max(G(x, phi[x]), U)\n",
    "\n",
    "plot_grid_max, plot_grid_size = 1.2, 100\n",
    "plot_grid = linspace(0, plot_grid_max, plot_grid_size)\n",
    "fig, ax = subplots()\n",
    "ax[:set_xlim](0, plot_grid_max)\n",
    "ax[:set_ylim](0, plot_grid_max)\n",
    "ticks = (0.25, 0.5, 0.75, 1.0)\n",
    "ax[:set_xticks](ticks)\n",
    "ax[:set_yticks](ticks)\n",
    "ax[:set_xlabel](L\"$x_t$\", fontsize=16)\n",
    "ax[:set_ylabel](L\"$x_{t+1}$\", fontsize=16, rotation=\"horizontal\")\n",
    "\n",
    "ax[:plot](plot_grid, plot_grid, \"k--\")\n",
    "\n",
    "for x in plot_grid\n",
    "    for i=1:50\n",
    "        b = rand() < pi_func(s[x]) ? 1 : 0\n",
    "        U = rand(wp.F)\n",
    "        y = h(x, b, U)\n",
    "        ax[:plot](x, y, \"go\", alpha=0.25)\n",
    "    end\n",
    "end\n",
    "\n",
    "plt.show()"
   ]
  },
  {
   "cell_type": "markdown",
   "metadata": {},
   "source": [
    "Looking at the dynamics, we can see that \n",
    "\n",
    "* If $x_t$ is below about 0.2 the dynamics are random, but $x_{t+1} > x_t$ is very likely\n",
    "* As $x_t$ increases the dynamics become deterministic, and $x_t$ converges to a steady state value close to 1\n",
    "\n",
    "Referring back to the figure here\n",
    "\n",
    "http://quant-econ.net/jl/jv.html#solving-for-policies\n",
    "\n",
    "we see that $x_t \\approx 1$ means that $s_t = s(x_t) \\approx 0$ and $\\phi_t = \\phi(x_t) \\approx 0.6$\n",
    "\n"
   ]
  },
  {
   "cell_type": "markdown",
   "metadata": {},
   "source": [
    "## Exercise 2\n",
    "\n",
    "The figure can be produced as follows"
   ]
  },
  {
   "cell_type": "code",
   "execution_count": null,
   "metadata": {
    "collapsed": false
   },
   "outputs": [],
   "source": [
    "plt.close(\"all\")\n",
    "wp = JvWorker(grid_size=25)\n",
    "\n",
    "xbar(phi) = (wp.A * phi^wp.alpha)^(1.0 / (1.0 - wp.alpha))\n",
    "\n",
    "phi_grid = linspace(0, 1, 100)\n",
    "\n",
    "fig, ax = subplots()\n",
    "ax[:set_xlabel](L\"$\\phi$\", fontsize=16)\n",
    "ax[:plot](phi_grid, [xbar(phi) * (1 - phi) for phi in phi_grid], \"b-\", \n",
    "          label=L\"$w^*(\\phi)$\")\n",
    "ax[:legend](loc=\"upper left\")\n",
    "\n",
    "plt.show()"
   ]
  },
  {
   "cell_type": "markdown",
   "metadata": {},
   "source": [
    "Observe that the maximizer is around 0.6\n",
    "\n",
    "This this is similar to the long run value for $\\phi$ obtained\n",
    "in exercise 1\n",
    "\n",
    "Hence the behaviour of the infinitely patent worker is similar to that of the\n",
    "worker with $\\beta = 0.96$\n",
    "\n",
    "This seems reasonable, and helps us confirm that our dynamic programming\n",
    "solutions are probably correct\n"
   ]
  }
 ],
 "metadata": {
  "kernelspec": {
   "display_name": "Julia 0.4.1",
   "language": "julia",
   "name": "julia-0.4"
  },
  "language_info": {
   "file_extension": ".jl",
   "mimetype": "application/julia",
   "name": "julia",
   "version": "0.4.1"
  }
 },
 "nbformat": 4,
 "nbformat_minor": 0
}
