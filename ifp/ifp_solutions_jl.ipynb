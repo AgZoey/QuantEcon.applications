{
 "cells": [
  {
   "cell_type": "markdown",
   "metadata": {},
   "source": [
    "# quant-econ Solutions: Optimal Savings\n",
    "\n",
    "Solutions for http://quant-econ.net/jl/ifp.html"
   ]
  },
  {
   "cell_type": "code",
   "execution_count": 1,
   "metadata": {
    "collapsed": false
   },
   "outputs": [
    {
     "data": {
      "text/plain": [
       "init_values (generic function with 1 method)"
      ]
     },
     "execution_count": 1,
     "metadata": {},
     "output_type": "execute_result"
    }
   ],
   "source": [
    "using QuantEcon\n",
    "include(\"ifp.jl\")\n",
    "#using PyPlot"
   ]
  },
  {
   "cell_type": "markdown",
   "metadata": {},
   "source": [
    "\n",
    "## Exercise 1"
   ]
  },
  {
   "cell_type": "code",
   "execution_count": null,
   "metadata": {
    "collapsed": false
   },
   "outputs": [],
   "source": [
    "function ex1()\n",
    "    cp = ConsumerProblem()\n",
    "    K = 80\n",
    "\n",
    "    V, c = init_values(cp)\n",
    "    println(\"Starting value function iteration\")\n",
    "    for i=1:K\n",
    "        V = bellman_operator(cp, V)  \n",
    "    end\n",
    "    c1 = bellman_operator(cp, V, ret_policy=true) \n",
    "\n",
    "    V2, c2 = init_values(cp)\n",
    "    println(\"Starting policy function iteration\")\n",
    "    for i=1:K\n",
    "        c2 = coleman_operator(cp, c2)  \n",
    "    end\n",
    "\n",
    "    fig, ax = subplots()\n",
    "    ax[:plot](cp.asset_grid, c1[:, 1], label=\"value function iteration\")\n",
    "    ax[:plot](cp.asset_grid, c2[:, 1], label=\"policy function iteration\")\n",
    "    ax[:set_xlabel](\"asset level\")\n",
    "    ax[:set_ylabel](\"consumption (low income)\")\n",
    "    ax[:legend](loc=\"upper left\")\n",
    "    plt.show()\n",
    "end\n",
    "\n",
    "ex1()"
   ]
  },
  {
   "cell_type": "markdown",
   "metadata": {},
   "source": [
    "## Exercise 2"
   ]
  },
  {
   "cell_type": "code",
   "execution_count": null,
   "metadata": {
    "collapsed": false
   },
   "outputs": [],
   "source": [
    "function ex2()\n",
    "    r_vals = linspace(0, 0.04, 4)  \n",
    "    fig, ax = subplots()\n",
    "    \n",
    "    for r_val in r_vals\n",
    "        cp = ConsumerProblem(r=r_val)\n",
    "        v_init, c_init = init_values(cp)\n",
    "        c = compute_fixed_point(x -> coleman_operator(cp, x), c_init, \n",
    "                                max_iter=150, verbose=false)\n",
    "        ax[:plot](cp.asset_grid, c[:, 1], label=LaTeXString(\"\\$r = $r_val\\$\"))\n",
    "    end\n",
    "\n",
    "    ax[:set_xlabel](\"asset level\")\n",
    "    ax[:set_ylabel](\"consumption (low income)\")\n",
    "    ax[:legend](loc=\"upper left\")\n",
    "    plt.show()\n",
    "end\n",
    "\n",
    "ex2()"
   ]
  },
  {
   "cell_type": "markdown",
   "metadata": {},
   "source": [
    "## Exercise 3"
   ]
  },
  {
   "cell_type": "code",
   "execution_count": null,
   "metadata": {
    "collapsed": false
   },
   "outputs": [],
   "source": [
    "using Grid\n",
    "\n",
    "function compute_asset_series(cp, T=500000; verbose=false)\n",
    "    Pi, z_vals, R = cp.Pi, cp.z_vals, cp.R  # Simplify names\n",
    "    v_init, c_init = init_values(cp)\n",
    "    c = compute_fixed_point(x -> coleman_operator(cp, x), c_init, \n",
    "                            max_iter=150, verbose=false)\n",
    "    cf(a, i_z) = CoordInterpGrid(cp.asset_grid, c[:, i_z], BCnearest,\n",
    "                                 InterpLinear)[a]\n",
    "    a = zeros(T+1)\n",
    "    z_seq = mc_sample_path(MarkovChain(Pi), 1, T)\n",
    "    for t=1:T\n",
    "        i_z = z_seq[t]\n",
    "        a[t+1] = R * a[t] + z_vals[i_z] - cf(a[t], i_z)\n",
    "    end\n",
    "    return a\n",
    "end\n",
    "\n",
    "function ex3()\n",
    "    cp = ConsumerProblem(r=0.03, grid_max=4)\n",
    "    a = compute_asset_series(cp)\n",
    "    fig, ax = subplots()\n",
    "    ax[:hist](a, bins=20, alpha=0.5, normed=true)\n",
    "    ax[:set_xlabel](\"assets\")\n",
    "    ax[:set_xlim](-0.05, 0.75)\n",
    "    plt.show()\n",
    "end\n",
    "\n",
    "ex3()"
   ]
  },
  {
   "cell_type": "markdown",
   "metadata": {},
   "source": [
    "## Exercise 4"
   ]
  },
  {
   "cell_type": "code",
   "execution_count": null,
   "metadata": {
    "collapsed": false
   },
   "outputs": [],
   "source": [
    "function ex4()\n",
    "    M = 25\n",
    "    r_vals = linspace(0, 0.04, M)  \n",
    "    fig, ax = subplots()\n",
    "    \n",
    "    for b in [1.0, 3.0]\n",
    "        asset_mean = Float64[]\n",
    "        for r_val in r_vals\n",
    "            cp = ConsumerProblem(r=r_val, b=b)\n",
    "            the_mean = mean(compute_asset_series(cp, 250000))\n",
    "            push!(asset_mean, the_mean)\n",
    "        end\n",
    "        ax[:plot](asset_mean, r_vals, label=LaTeXString(\"\\$b= $b\\$\"))\n",
    "        println(\"Finished iteration b=$b\")\n",
    "    end\n",
    "\n",
    "    ax[:set_yticks](0:0.01:0.045)\n",
    "    ax[:set_xticks](-3:1:2.0)\n",
    "    ax[:set_xlabel](\"capital\")\n",
    "    ax[:set_ylabel](\"interest rate\")\n",
    "    ax[:grid](true)\n",
    "    ax[:legend](loc=\"upper left\")\n",
    "    plt.show()\n",
    "end\n",
    "\n",
    "ex4()"
   ]
  }
 ],
 "metadata": {
  "kernelspec": {
   "display_name": "Julia 0.4.1",
   "language": "julia",
   "name": "julia-0.4"
  },
  "language_info": {
   "file_extension": ".jl",
   "mimetype": "application/julia",
   "name": "julia",
   "version": "0.4.1"
  }
 },
 "nbformat": 4,
 "nbformat_minor": 0
}
