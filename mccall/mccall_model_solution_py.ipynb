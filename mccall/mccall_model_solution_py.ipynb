{
 "cells": [
  {
   "cell_type": "markdown",
   "metadata": {},
   "source": [
    "# quant-econ Solutions: The McCall Job Search Model"
   ]
  },
  {
   "cell_type": "markdown",
   "metadata": {},
   "source": [
    "Solutions for http://quant-econ.net/py/mccall.html"
   ]
  },
  {
   "cell_type": "markdown",
   "metadata": {},
   "source": [
    "## Exercise 1"
   ]
  },
  {
   "cell_type": "markdown",
   "metadata": {
    "collapsed": true
   },
   "source": [
    "Our task is to implement a function that computes the reservation wage, using the logic discussed in the lecture.  Its argument should be an instance of McCallModel.\n",
    "\n",
    "Here is one solution.  It uses `np.searchsorted` to obtain the first $w$ in the set of possible wages such that $V(w) > U$.\n",
    "\n",
    "The code assumes that the file `mccall_bellman_iteration.py` is in the same directory as this notebook."
   ]
  },
  {
   "cell_type": "code",
   "execution_count": 4,
   "metadata": {
    "collapsed": true
   },
   "outputs": [],
   "source": [
    "import numpy as np\n",
    "from mccall_bellman_iteration import solve_mccall_model\n",
    "\n",
    "def compute_reservation_wage(mcm):\n",
    "    \"\"\"\n",
    "    Computes the reservation wage of an instance of the McCall model\n",
    "    by finding the smallest w such that V(w) > U.\n",
    "\n",
    "    If V(w) > U for all w, then the reservation wage w_bar is set to\n",
    "    the lowest wage in mcm.w_vec.\n",
    "\n",
    "    If v(w) < U for all w, then w_bar is set to np.inf.\n",
    "    \n",
    "    Parameters\n",
    "    ----------\n",
    "    mcm : an instance of McCallModel\n",
    "\n",
    "    Returns\n",
    "    -------\n",
    "    w_bar : scalar\n",
    "        The reservation wage\n",
    "        \n",
    "    \"\"\"\n",
    "\n",
    "    V, U = solve_mccall_model(mcm)\n",
    "    w_idx = np.searchsorted(V - U, 0)  \n",
    "\n",
    "    if w_idx == len(V) + 1:\n",
    "        w_bar = np.inf\n",
    "    else:\n",
    "        w_bar = mcm.w_vec[w_idx]\n",
    "\n",
    "    return w_bar\n"
   ]
  },
  {
   "cell_type": "markdown",
   "metadata": {},
   "source": [
    "Here's a sample of useage"
   ]
  },
  {
   "cell_type": "code",
   "execution_count": 5,
   "metadata": {
    "collapsed": false
   },
   "outputs": [
    {
     "data": {
      "text/plain": [
       "12.653061224489797"
      ]
     },
     "execution_count": 5,
     "metadata": {},
     "output_type": "execute_result"
    }
   ],
   "source": [
    "from mccall_bellman_iteration import McCallModel \n",
    "mcm = McCallModel()\n",
    "compute_reservation_wage(mcm)"
   ]
  },
  {
   "cell_type": "markdown",
   "metadata": {},
   "source": [
    "## Exercise 2"
   ]
  },
  {
   "cell_type": "markdown",
   "metadata": {},
   "source": [
    "We want to plot $\\bar w$ againsts $\\gamma$.  Here's some suitable code:"
   ]
  },
  {
   "cell_type": "code",
   "execution_count": 6,
   "metadata": {
    "collapsed": true
   },
   "outputs": [],
   "source": [
    "%matplotlib inline"
   ]
  },
  {
   "cell_type": "code",
   "execution_count": 8,
   "metadata": {
    "collapsed": false
   },
   "outputs": [
    {
     "data": {
      "image/png": "[encoded data removed]",
      "text/plain": [
       "<matplotlib.figure.Figure at 0x7f504547f6d8>"
      ]
     },
     "metadata": {},
     "output_type": "display_data"
    }
   ],
   "source": [
    "import numpy as np\n",
    "import matplotlib.pyplot as plt\n",
    "from mccall_bellman_iteration import McCallModel\n",
    "\n",
    "grid_size = 25  \n",
    "gamma_vals = np.linspace(0.05, 0.95, grid_size)  \n",
    "w_bar_vals = np.empty_like(gamma_vals)\n",
    "\n",
    "mcm = McCallModel()\n",
    "\n",
    "fig, ax = plt.subplots(figsize=(9, 6))\n",
    "\n",
    "for i, gamma in enumerate(gamma_vals):\n",
    "    mcm.gamma = gamma\n",
    "    w_bar = compute_reservation_wage(mcm)\n",
    "    w_bar_vals[i] = w_bar\n",
    "\n",
    "ax.set_xlabel('job offer rate')\n",
    "ax.set_ylabel('reservation wage')\n",
    "ax.set_xlim(gamma_vals.min(), gamma_vals.max())\n",
    "txt = r'$\\bar w$ as a function of $\\gamma$'\n",
    "ax.plot(gamma_vals, w_bar_vals, 'b-', lw=2, alpha=0.7, label=txt)\n",
    "ax.legend(loc='upper left')\n",
    "ax.grid()\n",
    "\n",
    "plt.show()\n"
   ]
  },
  {
   "cell_type": "markdown",
   "metadata": {},
   "source": [
    "As expected, the reservation wage increases in $\\gamma$.\n",
    "\n",
    "This is because higher $\\gamma$ translates to a more favorable job search environment.\n",
    "\n",
    "Hence workers are less willing to accept lower offers."
   ]
  },
  {
   "cell_type": "code",
   "execution_count": null,
   "metadata": {
    "collapsed": true
   },
   "outputs": [],
   "source": []
  }
 ],
 "metadata": {
  "kernelspec": {
   "display_name": "Python 3",
   "language": "python",
   "name": "python3"
  },
  "language_info": {
   "codemirror_mode": {
    "name": "ipython",
    "version": 3
   },
   "file_extension": ".py",
   "mimetype": "text/x-python",
   "name": "python",
   "nbconvert_exporter": "python",
   "pygments_lexer": "ipython3",
   "version": "3.5.2"
  }
 },
 "nbformat": 4,
 "nbformat_minor": 0
}
