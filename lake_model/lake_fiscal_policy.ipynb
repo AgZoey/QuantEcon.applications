{
 "cells": [
  {
   "cell_type": "code",
   "execution_count": 1,
   "metadata": {
    "collapsed": true
   },
   "outputs": [],
   "source": [
    "matplotlib inline"
   ]
  },
  {
   "cell_type": "code",
   "execution_count": 2,
   "metadata": {
    "collapsed": false
   },
   "outputs": [],
   "source": [
    "\"\"\"\n",
    "Plot welfare, employment, unemployment, and tax revenue as a function of the\n",
    "unemployment compensation rate in the lake model.\n",
    "\n",
    "For fixed parameters \n",
    "\n",
    "    alpha = job separation rate, \n",
    "    beta = discount rate, \n",
    "    gamma = job destruction rate\n",
    "    w_vec, p_vec = possible wage values and their probabilities\n",
    "    b, d = entry and exit rates for labor force\n",
    "\n",
    "and a given utility function u,\n",
    "\n",
    "\"\"\"\n",
    "\n",
    "import numpy as np \n",
    "import matplotlib.pyplot as plt\n",
    "from lake_model import LakeModel\n",
    "from scipy.stats import norm\n",
    "from scipy.optimize import brentq\n",
    "from numba import jit\n",
    "\n",
    "# What to do about these imports?  I'm currently using sym links...\n",
    "\n",
    "from mccall_bellman_iteration import McCallModel  \n",
    "from compute_reservation_wage import compute_reservation_wage \n",
    "\n",
    "# Some global variables that will stay constant\n",
    "\n",
    "alpha  = 0.013               # monthly\n",
    "alpha_q = (1-(1-alpha)**3)   # quarterly\n",
    "b      = 0.0124\n",
    "d      = 0.00822\n",
    "beta   = 0.98       \n",
    "gamma  = 1.0\n",
    "sigma  = 2.0\n",
    "    \n",
    "# The default wage distribution --- a discretized lognormal\n",
    "\n",
    "log_wage_mean, wage_grid_size, max_wage = 20, 200, 170\n",
    "logw_dist = norm(np.log(log_wage_mean), 1)\n",
    "w_vec = np.linspace(0, max_wage, wage_grid_size + 1) # wage grid\n",
    "cdf = logw_dist.cdf(np.log(w_vec))\n",
    "pdf = cdf[1:]-cdf[:-1]\n",
    "p_vec = pdf / pdf.sum()\n",
    "w_vec = (w_vec[1:] + w_vec[:-1])/2\n",
    "\n",
    "# Levels of unemployment insurance we wish to study\n",
    "c_vec = np.linspace(5, 140, 50)"
   ]
  },
  {
   "cell_type": "code",
   "execution_count": 3,
   "metadata": {
    "collapsed": false
   },
   "outputs": [
    {
     "data": {
      "text/plain": [
       "0.038495197000000037"
      ]
     },
     "execution_count": 3,
     "metadata": {},
     "output_type": "execute_result"
    }
   ],
   "source": [
    "alpha_q"
   ]
  },
  {
   "cell_type": "code",
   "execution_count": 4,
   "metadata": {
    "collapsed": false
   },
   "outputs": [
    {
     "data": {
      "image/png": "[encoded data removed]",
      "text/plain": [
       "<matplotlib.figure.Figure at 0x7f0d1da23b70>"
      ]
     },
     "metadata": {},
     "output_type": "display_data"
    }
   ],
   "source": [
    "fig, ax = plt.subplots()\n",
    "ax.plot(w_vec, p_vec)\n",
    "plt.show()"
   ]
  },
  {
   "cell_type": "markdown",
   "metadata": {},
   "source": [
    "Let's make a default model to play with"
   ]
  },
  {
   "cell_type": "code",
   "execution_count": 5,
   "metadata": {
    "collapsed": true
   },
   "outputs": [],
   "source": [
    "c = 10\n",
    "T = 0\n",
    "mcm = McCallModel(alpha=alpha_q, \n",
    "         beta=beta, \n",
    "         gamma=gamma, \n",
    "         c=c-T,         # post tax compensation\n",
    "         sigma=sigma, \n",
    "         w_vec=w_vec-T, # post tax wages\n",
    "         p_vec=p_vec)"
   ]
  },
  {
   "cell_type": "code",
   "execution_count": 6,
   "metadata": {
    "collapsed": false
   },
   "outputs": [],
   "source": [
    "w_bar = compute_reservation_wage(mcm)"
   ]
  },
  {
   "cell_type": "code",
   "execution_count": 7,
   "metadata": {
    "collapsed": false
   },
   "outputs": [
    {
     "data": {
      "text/plain": [
       "31.875"
      ]
     },
     "execution_count": 7,
     "metadata": {},
     "output_type": "execute_result"
    }
   ],
   "source": [
    "w_bar"
   ]
  },
  {
   "cell_type": "code",
   "execution_count": 9,
   "metadata": {
    "collapsed": true
   },
   "outputs": [],
   "source": [
    "def compute_optimal_quantities(c, T):\n",
    "    \"\"\"\n",
    "    Compute the reservation wage, job finding rate and value functions of the workers \n",
    "    given c and T.\n",
    "\n",
    "    \"\"\"\n",
    "    \n",
    "    mcm = McCallModel(alpha=alpha_q, \n",
    "                     beta=beta, \n",
    "                     gamma=gamma, \n",
    "                     c=c-T,         # post tax compensation\n",
    "                     sigma=sigma, \n",
    "                     w_vec=w_vec-T, # post tax wages\n",
    "                     p_vec=p_vec)\n",
    "\n",
    "    w_bar, V, U = compute_reservation_wage(mcm, return_values=True)\n",
    "    lmda = gamma * np.sum(p_vec[w_vec-T > w_bar])\n",
    "    return w_bar, lmda, V, U"
   ]
  },
  {
   "cell_type": "code",
   "execution_count": 10,
   "metadata": {
    "collapsed": true
   },
   "outputs": [],
   "source": [
    "def compute_steady_state_quantities(c, T):\n",
    "    \"\"\"\n",
    "    Compute the steady state unemployment rate given c and T using optimal\n",
    "    quantities from the McCall model and computing corresponding steady state\n",
    "    quantities\n",
    "\n",
    "    \"\"\"\n",
    "    w_bar, lmda, V, U = compute_optimal_quantities(c, T)\n",
    "    \n",
    "    # Compute steady state employment and unemployment rates\n",
    "    lm = LakeModel(alpha=alpha_q, lmda=lmda, b=0, d=0) \n",
    "    x = lm.rate_steady_state()\n",
    "    e, u = x\n",
    "    \n",
    "    # Compute steady state welfare\n",
    "    w = np.sum(V * p_vec * (w_vec - T > w_bar)) / np.sum(p_vec * (w_vec - T > w_bar))\n",
    "    welfare = e * w + u * U\n",
    "    \n",
    "    return e, u, welfare"
   ]
  },
  {
   "cell_type": "code",
   "execution_count": 18,
   "metadata": {
    "collapsed": true
   },
   "outputs": [],
   "source": [
    "def find_balanced_budget_tax(c):\n",
    "    \"\"\"\n",
    "    Find the smallest tax that will induce a balanced budget\n",
    "\n",
    "    \"\"\"\n",
    "    def steady_state_budget(t):\n",
    "        e, u, w = compute_steady_state_quantities(c, t)\n",
    "        return t - u * c\n",
    "\n",
    "    T = brentq(steady_state_budget, 0.0, 0.9 * c)\n",
    "    return T"
   ]
  },
  {
   "cell_type": "code",
   "execution_count": 19,
   "metadata": {
    "collapsed": false
   },
   "outputs": [
    {
     "data": {
      "text/plain": [
       "1.09115088293371"
      ]
     },
     "execution_count": 19,
     "metadata": {},
     "output_type": "execute_result"
    }
   ],
   "source": [
    "find_balanced_budget_tax(10)"
   ]
  },
  {
   "cell_type": "code",
   "execution_count": 20,
   "metadata": {
    "collapsed": false
   },
   "outputs": [
    {
     "data": {
      "text/plain": [
       "14.578956434859982"
      ]
     },
     "execution_count": 20,
     "metadata": {},
     "output_type": "execute_result"
    }
   ],
   "source": [
    "find_balanced_budget_tax(50)"
   ]
  },
  {
   "cell_type": "markdown",
   "metadata": {
    "collapsed": true
   },
   "source": [
    "Now step through all c values to be considered.  At each one, find budget\n",
    "balancing T, and then evaluate endogenous quantities at these values.  \n",
    "Plot the values against c."
   ]
  },
  {
   "cell_type": "code",
   "execution_count": 24,
   "metadata": {
    "collapsed": false
   },
   "outputs": [],
   "source": [
    "tax_vec = []\n",
    "unempl_vec = []\n",
    "empl_vec = []\n",
    "welfare_vec = []\n",
    "\n",
    "for c in c_vec:\n",
    "    t = find_balanced_budget_tax(c)\n",
    "    e_rate, u_rate, welfare = compute_steady_state_quantities(c, t)\n",
    "    tax_vec.append(t)\n",
    "    unempl_vec.append(u_rate)\n",
    "    empl_vec.append(e_rate)\n",
    "    welfare_vec.append(welfare)"
   ]
  },
  {
   "cell_type": "code",
   "execution_count": 25,
   "metadata": {
    "collapsed": false
   },
   "outputs": [
    {
     "data": {
      "image/png": "[encoded data removed]",
      "text/plain": [
       "<matplotlib.figure.Figure at 0x7f0d06a7ccf8>"
      ]
     },
     "metadata": {},
     "output_type": "display_data"
    }
   ],
   "source": [
    "fig, axes = plt.subplots(2, 2, figsize=(10, 10))\n",
    "\n",
    "ax = axes[0, 0]\n",
    "ax.plot(c_vec, unempl_vec)\n",
    "ax.set_title('unemployment')\n",
    "\n",
    "ax = axes[0, 1]\n",
    "ax.plot(c_vec, empl_vec)\n",
    "ax.set_title('employment')\n",
    "\n",
    "ax = axes[1, 0]\n",
    "ax.plot(c_vec, tax_vec)\n",
    "ax.set_title('tax')\n",
    "\n",
    "ax = axes[1, 1]\n",
    "ax.plot(c_vec, welfare_vec)\n",
    "ax.set_title('welfare')\n",
    "\n",
    "plt.tight_layout()\n",
    "plt.show()"
   ]
  },
  {
   "cell_type": "code",
   "execution_count": null,
   "metadata": {
    "collapsed": true
   },
   "outputs": [],
   "source": []
  }
 ],
 "metadata": {
  "kernelspec": {
   "display_name": "Python 3",
   "language": "python",
   "name": "python3"
  },
  "language_info": {
   "codemirror_mode": {
    "name": "ipython",
    "version": 3
   },
   "file_extension": ".py",
   "mimetype": "text/x-python",
   "name": "python",
   "nbconvert_exporter": "python",
   "pygments_lexer": "ipython3",
   "version": "3.5.2"
  }
 },
 "nbformat": 4,
 "nbformat_minor": 0
}
