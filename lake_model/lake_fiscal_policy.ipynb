{
 "cells": [
  {
   "cell_type": "code",
   "execution_count": 10,
   "metadata": {
    "collapsed": true
   },
   "outputs": [],
   "source": [
    "matplotlib inline"
   ]
  },
  {
   "cell_type": "code",
   "execution_count": 11,
   "metadata": {
    "collapsed": false
   },
   "outputs": [],
   "source": [
    "\"\"\"\n",
    "Plot welfare, employment, unemployment, and tax revenue as a function of the\n",
    "unemployment compensation rate in the lake model.\n",
    "\n",
    "For fixed parameters \n",
    "\n",
    "    alpha = job separation rate, \n",
    "    beta = discount rate, \n",
    "    gamma = job destruction rate\n",
    "    w_vec, p_vec = possible wage values and their probabilities\n",
    "    b, d = entry and exit rates for labor force\n",
    "\n",
    "and a given utility function u,\n",
    "\n",
    "\"\"\"\n",
    "\n",
    "import numpy as np \n",
    "import matplotlib.pyplot as plt\n",
    "from lake_model import LakeModel\n",
    "from scipy.stats import norm\n",
    "from scipy.optimize import newton, brentq\n",
    "\n",
    "# What to do about these imports?  I'm currently using sym links...\n",
    "from mccall_bellman_iteration import McCallModel  \n",
    "from compute_reservation_wage import compute_reservation_wage \n",
    "\n",
    "# Some global variables that will stay constant\n",
    "\n",
    "alpha  = 0.013               # monthly\n",
    "alpha_q = (1-(1-alpha)**3)   # quarterly\n",
    "b      = 0.0124\n",
    "d      = 0.00822\n",
    "beta   = 0.99                   \n",
    "gamma  = 1\n",
    "\n",
    "# Default utility function\n",
    "\n",
    "sigma = 2\n",
    "def u(c):\n",
    "    if c > 0:\n",
    "        return (c**(1 - sigma) - 1) / (1 - sigma)\n",
    "    else:\n",
    "        return -10e5\n",
    "u = np.vectorize(u)\n",
    "    \n",
    "# The default wage distribution --- a discretized lognormal\n",
    "\n",
    "log_wage_mean, wage_grid_size, max_wage = 20, 200, 175\n",
    "logw_dist = norm(np.log(log_wage_mean), 1)\n",
    "w_vec = np.linspace(0, max_wage, wage_grid_size + 1) # wage grid\n",
    "cdf = logw_dist.cdf(np.log(w_vec))\n",
    "pdf = cdf[1:]-cdf[:-1]\n",
    "p_vec = pdf / pdf.sum()\n",
    "w_vec = (w_vec[1:] + w_vec[:-1])/2\n",
    "\n",
    "# Levels of unemployment insurance we wish to study\n",
    "c_vec = np.linspace(5, 135, 10)"
   ]
  },
  {
   "cell_type": "code",
   "execution_count": 12,
   "metadata": {
    "collapsed": false
   },
   "outputs": [
    {
     "data": {
      "image/png": "[encoded data removed]",
      "text/plain": [
       "<matplotlib.figure.Figure at 0x7f3d16bd4128>"
      ]
     },
     "metadata": {},
     "output_type": "display_data"
    }
   ],
   "source": [
    "fig, ax = plt.subplots()\n",
    "ax.plot(w_vec, p_vec)\n",
    "plt.show()"
   ]
  },
  {
   "cell_type": "code",
   "execution_count": 13,
   "metadata": {
    "collapsed": true
   },
   "outputs": [],
   "source": [
    "def compute_lambda(c, T):\n",
    "    \"\"\"\n",
    "    Compute the job finding rate given c and T by first computing the\n",
    "    reservation wage from the McCall model.\n",
    "\n",
    "    \"\"\"\n",
    "    \n",
    "    mcm = McCallModel(alpha=alpha_q, \n",
    "                     beta=beta, \n",
    "                     gamma=gamma, \n",
    "                     c=c-T,         # post tax compensation\n",
    "                     u=u, \n",
    "                     w_vec=w_vec-T, # post tax wages\n",
    "                     p_vec=p_vec)\n",
    "\n",
    "    w_bar = compute_reservation_wage(mcm)\n",
    "    lmda = np.sum(p_vec[w_vec > w_bar])\n",
    "    return lmda"
   ]
  },
  {
   "cell_type": "code",
   "execution_count": 14,
   "metadata": {
    "collapsed": false
   },
   "outputs": [
    {
     "data": {
      "text/plain": [
       "[<matplotlib.lines.Line2D at 0x7f3d172e3e10>]"
      ]
     },
     "execution_count": 14,
     "metadata": {},
     "output_type": "execute_result"
    },
    {
     "data": {
      "image/png": "[encoded data removed]",
      "text/plain": [
       "<matplotlib.figure.Figure at 0x7f3d172e3438>"
      ]
     },
     "metadata": {},
     "output_type": "display_data"
    }
   ],
   "source": [
    "fig, ax = plt.subplots()\n",
    "lmda_vec = []\n",
    "T = 1.0\n",
    "for c in c_vec:\n",
    "    lmda_vec.append(compute_lambda(c, T))\n",
    "ax.plot(c_vec, lmda_vec)"
   ]
  },
  {
   "cell_type": "code",
   "execution_count": 15,
   "metadata": {
    "collapsed": false
   },
   "outputs": [
    {
     "data": {
      "text/plain": [
       "[0.47261170770543992,\n",
       " 0.19906852781137729,\n",
       " 0.12797673987814182,\n",
       " 0.089204694473344309,\n",
       " 0.066214881825595664,\n",
       " 0.048178518248094625,\n",
       " 0.03585496118366354,\n",
       " 0.026439889806442157,\n",
       " 0.01859851514864045,\n",
       " 0.012134112937678609]"
      ]
     },
     "execution_count": 15,
     "metadata": {},
     "output_type": "execute_result"
    }
   ],
   "source": [
    "lmda_vec"
   ]
  },
  {
   "cell_type": "code",
   "execution_count": 16,
   "metadata": {
    "collapsed": true
   },
   "outputs": [],
   "source": [
    "def compute_steady_state_unemployment(c, T):\n",
    "    \"\"\"\n",
    "    Compute the steady state unemployment rate given c and T using lambda, the\n",
    "    job finding rate, from the McCall model and then computing steady state\n",
    "    unemployment corresponding to alpha, lambda, b, d.\n",
    "\n",
    "    \"\"\"\n",
    "    lmda = compute_lambda(c, T)\n",
    "    lm = LakeModel(alpha=alpha, lmda=lmda, b=0, d=0) \n",
    "    x = lm.rate_steady_state()\n",
    "    e, u = x\n",
    "    return u"
   ]
  },
  {
   "cell_type": "code",
   "execution_count": 17,
   "metadata": {
    "collapsed": true
   },
   "outputs": [],
   "source": [
    "def find_balanced_budget_tax(c):\n",
    "    \"\"\"\n",
    "    Find the smallest tax that will induce a balanced budget\n",
    "\n",
    "    \"\"\"\n",
    "    def steady_state_budget(t):\n",
    "        u = compute_steady_state_unemployment(c, t)\n",
    "        return t - u * c\n",
    "\n",
    "    T = brentq(steady_state_budget, 0.0, 0.9 * c)\n",
    "    return T"
   ]
  },
  {
   "cell_type": "code",
   "execution_count": 19,
   "metadata": {
    "collapsed": false
   },
   "outputs": [
    {
     "data": {
      "text/plain": [
       "0.42207952243586755"
      ]
     },
     "execution_count": 19,
     "metadata": {},
     "output_type": "execute_result"
    }
   ],
   "source": [
    "find_balanced_budget_tax(10.0)"
   ]
  },
  {
   "cell_type": "code",
   "execution_count": null,
   "metadata": {
    "collapsed": false
   },
   "outputs": [
    {
     "name": "stdout",
     "output_type": "stream",
     "text": [
      "> \u001b[1;32m/home/john/sync_dir/quantecon/QuantEcon.applications/lake_model/lake_model.py\u001b[0m(43)\u001b[0;36mcompute_derived_values\u001b[1;34m()\u001b[0m\n",
      "\u001b[1;32m     41 \u001b[1;33m        \u001b[0mself\u001b[0m\u001b[1;33m.\u001b[0m\u001b[0m_g\u001b[0m \u001b[1;33m=\u001b[0m \u001b[0mb\u001b[0m \u001b[1;33m-\u001b[0m \u001b[0md\u001b[0m\u001b[1;33m\u001b[0m\u001b[0m\n",
      "\u001b[0m\u001b[1;32m     42 \u001b[1;33m        self._A = np.array([ [(1-d) * (1-alpha), (1-d) * lmda],\n",
      "\u001b[0m\u001b[1;32m---> 43 \u001b[1;33m                             [(1-d) * alpha + b, (1-lmda) * (1-d) + b]])\n",
      "\u001b[0m\u001b[1;32m     44 \u001b[1;33m\u001b[1;33m\u001b[0m\u001b[0m\n",
      "\u001b[0m\u001b[1;32m     45 \u001b[1;33m        \u001b[0mself\u001b[0m\u001b[1;33m.\u001b[0m\u001b[0m_A_hat\u001b[0m \u001b[1;33m=\u001b[0m \u001b[0mself\u001b[0m\u001b[1;33m.\u001b[0m\u001b[0m_A\u001b[0m \u001b[1;33m/\u001b[0m \u001b[1;33m(\u001b[0m\u001b[1;36m1\u001b[0m \u001b[1;33m+\u001b[0m \u001b[0mself\u001b[0m\u001b[1;33m.\u001b[0m\u001b[0m_g\u001b[0m\u001b[1;33m)\u001b[0m\u001b[1;33m\u001b[0m\u001b[0m\n",
      "\u001b[0m\n",
      "ipdb> a\n",
      "self = <lake_model.LakeModel object at 0x7fbf0f5974e0>\n",
      "ipdb> alpha\n",
      "0.013\n",
      "ipdb> d\n",
      "*** Newest frame\n",
      "ipdb> p d\n",
      "0\n",
      "ipdb> p b\n",
      "0\n",
      "ipdb> p lmda\n",
      "(24.0625, 0.41072840029766511)\n"
     ]
    }
   ],
   "source": [
    "debug"
   ]
  },
  {
   "cell_type": "code",
   "execution_count": null,
   "metadata": {
    "collapsed": true
   },
   "outputs": [],
   "source": [
    "## Now step through all c values to be considered.  At each one, find budget\n",
    "## balancing T, and then evaluate welfare, employment and unemployment at this\n",
    "## pair (c, T).  Plot the values against c."
   ]
  },
  {
   "cell_type": "code",
   "execution_count": null,
   "metadata": {
    "collapsed": false
   },
   "outputs": [],
   "source": []
  },
  {
   "cell_type": "code",
   "execution_count": null,
   "metadata": {
    "collapsed": true
   },
   "outputs": [],
   "source": []
  }
 ],
 "metadata": {
  "kernelspec": {
   "display_name": "Python 3",
   "language": "python",
   "name": "python3"
  },
  "language_info": {
   "codemirror_mode": {
    "name": "ipython",
    "version": 3
   },
   "file_extension": ".py",
   "mimetype": "text/x-python",
   "name": "python",
   "nbconvert_exporter": "python",
   "pygments_lexer": "ipython3",
   "version": "3.5.2"
  }
 },
 "nbformat": 4,
 "nbformat_minor": 0
}
