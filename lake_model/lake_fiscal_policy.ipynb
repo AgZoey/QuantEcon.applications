{
 "cells": [
  {
   "cell_type": "code",
   "execution_count": 1,
   "metadata": {
    "collapsed": true
   },
   "outputs": [],
   "source": [
    "matplotlib inline"
   ]
  },
  {
   "cell_type": "code",
   "execution_count": 2,
   "metadata": {
    "collapsed": false
   },
   "outputs": [],
   "source": [
    "\"\"\"\n",
    "Plot welfare, employment, unemployment, and tax revenue as a function of the\n",
    "unemployment compensation rate in the lake model.\n",
    "\n",
    "For fixed parameters \n",
    "\n",
    "    alpha = job separation rate, \n",
    "    beta = discount rate, \n",
    "    gamma = job destruction rate\n",
    "    w_vec, p_vec = possible wage values and their probabilities\n",
    "    b, d = entry and exit rates for labor force\n",
    "\n",
    "and a given utility function u,\n",
    "\n",
    "\"\"\"\n",
    "\n",
    "import numpy as np \n",
    "import matplotlib.pyplot as plt\n",
    "from lake_model import LakeModel\n",
    "from scipy.stats import norm\n",
    "from scipy.optimize import brentq\n",
    "from numba import jit\n",
    "\n",
    "# What to do about these imports?  I'm currently using sym links...\n",
    "from mccall_bellman_iteration import McCallModel  \n",
    "from compute_reservation_wage import compute_reservation_wage \n",
    "\n",
    "# Some global variables that will stay constant\n",
    "\n",
    "alpha  = 0.013               # monthly\n",
    "alpha_q = (1-(1-alpha)**3)   # quarterly\n",
    "b      = 0.0124\n",
    "d      = 0.00822\n",
    "beta   = 0.99                   \n",
    "gamma  = 1.0\n",
    "\n",
    "# Default utility function\n",
    "\n",
    "sigma = 2.0\n",
    "@jit\n",
    "def u(c):\n",
    "    if c > 0:\n",
    "        return (c**(1 - sigma) - 1) / (1 - sigma)\n",
    "    else:\n",
    "        return -10e5\n",
    "    \n",
    "# The default wage distribution --- a discretized lognormal\n",
    "\n",
    "log_wage_mean, wage_grid_size, max_wage = 20, 50, 175\n",
    "logw_dist = norm(np.log(log_wage_mean), 1)\n",
    "w_vec = np.linspace(0, max_wage, wage_grid_size + 1) # wage grid\n",
    "cdf = logw_dist.cdf(np.log(w_vec))\n",
    "pdf = cdf[1:]-cdf[:-1]\n",
    "p_vec = pdf / pdf.sum()\n",
    "w_vec = (w_vec[1:] + w_vec[:-1])/2\n",
    "\n",
    "# Levels of unemployment insurance we wish to study\n",
    "c_vec = np.linspace(5, 135, 10)"
   ]
  },
  {
   "cell_type": "code",
   "execution_count": 3,
   "metadata": {
    "collapsed": false
   },
   "outputs": [
    {
     "data": {
      "image/png": "[encoded data removed]",
      "text/plain": [
       "<matplotlib.figure.Figure at 0x7fa4a70cef28>"
      ]
     },
     "metadata": {},
     "output_type": "display_data"
    }
   ],
   "source": [
    "fig, ax = plt.subplots()\n",
    "ax.plot(w_vec, p_vec)\n",
    "plt.show()"
   ]
  },
  {
   "cell_type": "code",
   "execution_count": 4,
   "metadata": {
    "collapsed": true
   },
   "outputs": [],
   "source": [
    "def compute_lambda(c, T):\n",
    "    \"\"\"\n",
    "    Compute the job finding rate given c and T by first computing the\n",
    "    reservation wage from the McCall model.\n",
    "\n",
    "    \"\"\"\n",
    "    \n",
    "    mcm = McCallModel(alpha=alpha_q, \n",
    "                     beta=beta, \n",
    "                     gamma=gamma, \n",
    "                     c=c-T,         # post tax compensation\n",
    "                     u=u, \n",
    "                     w_vec=w_vec-T, # post tax wages\n",
    "                     p_vec=p_vec)\n",
    "\n",
    "    w_bar = compute_reservation_wage(mcm)\n",
    "    lmda = np.sum(p_vec[w_vec > w_bar])\n",
    "    return lmda"
   ]
  },
  {
   "cell_type": "code",
   "execution_count": 5,
   "metadata": {
    "collapsed": false
   },
   "outputs": [
    {
     "data": {
      "text/plain": [
       "[<matplotlib.lines.Line2D at 0x7fa4938ed978>]"
      ]
     },
     "execution_count": 5,
     "metadata": {},
     "output_type": "execute_result"
    },
    {
     "data": {
      "image/png": "[encoded data removed]",
      "text/plain": [
       "<matplotlib.figure.Figure at 0x7fa4938ed198>"
      ]
     },
     "metadata": {},
     "output_type": "display_data"
    }
   ],
   "source": [
    "fig, ax = plt.subplots()\n",
    "lmda_vec = []\n",
    "T = 1.0\n",
    "for c in c_vec:\n",
    "    lmda_vec.append(compute_lambda(c, T))\n",
    "ax.plot(c_vec, lmda_vec)"
   ]
  },
  {
   "cell_type": "code",
   "execution_count": 6,
   "metadata": {
    "collapsed": false
   },
   "outputs": [
    {
     "data": {
      "text/plain": [
       "[0.47261170770543987,\n",
       " 0.19341362762773689,\n",
       " 0.12463799444325152,\n",
       " 0.091482520906454631,\n",
       " 0.061517381309161241,\n",
       " 0.045878059469645946,\n",
       " 0.034109397884980068,\n",
       " 0.025092905612064901,\n",
       " 0.018076344249925071,\n",
       " 0.010958267923183078]"
      ]
     },
     "execution_count": 6,
     "metadata": {},
     "output_type": "execute_result"
    }
   ],
   "source": [
    "lmda_vec"
   ]
  },
  {
   "cell_type": "code",
   "execution_count": 7,
   "metadata": {
    "collapsed": true
   },
   "outputs": [],
   "source": [
    "def compute_steady_state_unemployment(c, T):\n",
    "    \"\"\"\n",
    "    Compute the steady state unemployment rate given c and T using lambda, the\n",
    "    job finding rate, from the McCall model and then computing steady state\n",
    "    unemployment corresponding to alpha, lambda, b, d.\n",
    "\n",
    "    \"\"\"\n",
    "    lmda = compute_lambda(c, T)\n",
    "    lm = LakeModel(alpha=alpha, lmda=lmda, b=0, d=0) \n",
    "    x = lm.rate_steady_state()\n",
    "    e, u = x\n",
    "    return u"
   ]
  },
  {
   "cell_type": "code",
   "execution_count": 8,
   "metadata": {
    "collapsed": true
   },
   "outputs": [],
   "source": [
    "def find_balanced_budget_tax(c):\n",
    "    \"\"\"\n",
    "    Find the smallest tax that will induce a balanced budget\n",
    "\n",
    "    \"\"\"\n",
    "    def steady_state_budget(t):\n",
    "        u_rate = compute_steady_state_unemployment(c, t)\n",
    "        return t - u_rate * c\n",
    "\n",
    "    T = brentq(steady_state_budget, 0.0, 0.9 * c)\n",
    "    return T"
   ]
  },
  {
   "cell_type": "code",
   "execution_count": 9,
   "metadata": {
    "collapsed": false
   },
   "outputs": [
    {
     "data": {
      "text/plain": [
       "10.50000000000114"
      ]
     },
     "execution_count": 9,
     "metadata": {},
     "output_type": "execute_result"
    }
   ],
   "source": [
    "find_balanced_budget_tax(70.0)"
   ]
  },
  {
   "cell_type": "code",
   "execution_count": 10,
   "metadata": {
    "collapsed": true
   },
   "outputs": [],
   "source": [
    "## Now step through all c values to be considered.  At each one, find budget\n",
    "## balancing T, and then evaluate welfare, employment and unemployment at this\n",
    "## pair (c, T).  Plot the values against c."
   ]
  },
  {
   "cell_type": "code",
   "execution_count": 11,
   "metadata": {
    "collapsed": false
   },
   "outputs": [],
   "source": [
    "tax_vec = []\n",
    "unempl_vec = []\n",
    "empl_vec = []\n",
    "for c in c_vec:\n",
    "    t = find_balanced_budget_tax(c)\n",
    "    u_rate = compute_steady_state_unemployment(c, t)\n",
    "    tax_vec.append(t)\n",
    "    unempl_vec.append(u_rate)\n",
    "    empl_vec.append(1 - u_rate)"
   ]
  },
  {
   "cell_type": "code",
   "execution_count": 16,
   "metadata": {
    "collapsed": false
   },
   "outputs": [
    {
     "data": {
      "image/png": "[encoded data removed]",
      "text/plain": [
       "<matplotlib.figure.Figure at 0x7fa490472eb8>"
      ]
     },
     "metadata": {},
     "output_type": "display_data"
    }
   ],
   "source": [
    "fig, axes = plt.subplots(2, 2, figsize=(10, 10))\n",
    "\n",
    "ax = axes[0, 0]\n",
    "ax.plot(c_vec, unempl_vec)\n",
    "ax.set_title('unemployment')\n",
    "\n",
    "ax = axes[0, 1]\n",
    "ax.plot(c_vec, empl_vec)\n",
    "ax.set_title('employment')\n",
    "\n",
    "ax = axes[1, 0]\n",
    "ax.plot(c_vec, tax_vec)\n",
    "ax.set_title('tax')\n",
    "\n",
    "plt.tight_layout()\n",
    "plt.show()"
   ]
  },
  {
   "cell_type": "code",
   "execution_count": null,
   "metadata": {
    "collapsed": true
   },
   "outputs": [],
   "source": []
  }
 ],
 "metadata": {
  "kernelspec": {
   "display_name": "Python 3",
   "language": "python",
   "name": "python3"
  },
  "language_info": {
   "codemirror_mode": {
    "name": "ipython",
    "version": 3
   },
   "file_extension": ".py",
   "mimetype": "text/x-python",
   "name": "python",
   "nbconvert_exporter": "python",
   "pygments_lexer": "ipython3",
   "version": "3.5.2"
  }
 },
 "nbformat": 4,
 "nbformat_minor": 0
}
