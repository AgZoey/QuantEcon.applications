{
 "cells": [
  {
   "cell_type": "markdown",
   "metadata": {},
   "source": [
    "# quant-econ Solutions: Modeling Career Choice\n",
    "\n",
    "Solutions for http://quant-econ.net/jl/career.html"
   ]
  },
  {
   "cell_type": "code",
   "execution_count": 1,
   "metadata": {
    "collapsed": false
   },
   "outputs": [
    {
     "data": {
      "text/plain": [
       "get_greedy (generic function with 1 method)"
      ]
     },
     "execution_count": 1,
     "metadata": {},
     "output_type": "execute_result"
    }
   ],
   "source": [
    "using PyPlot\n",
    "using QuantEcon\n",
    "include(\"career.jl\")"
   ]
  },
  {
   "cell_type": "code",
   "execution_count": 2,
   "metadata": {
    "collapsed": false
   },
   "outputs": [
    {
     "ename": "LoadError",
     "evalue": "LoadError: UndefVarError: subplots not defined\nwhile loading In[2], in expression starting on line 35",
     "output_type": "error",
     "traceback": [
      "LoadError: UndefVarError: subplots not defined\nwhile loading In[2], in expression starting on line 35",
      ""
     ]
    }
   ],
   "source": [
    "srand(41)  # reproducible results\n",
    "wp = CareerWorkerProblem()\n",
    "\n",
    "function solve_wp(wp::CareerWorkerProblem)\n",
    "    v_init = fill(100.0, wp.N, wp.N)\n",
    "    func(x) = bellman_operator(wp, x)\n",
    "    v = compute_fixed_point(func, v_init, max_iter=500, verbose=false)\n",
    "    optimal_policy = get_greedy(wp, v)\n",
    "    return v, optimal_policy\n",
    "end\n",
    "\n",
    "v, optimal_policy = solve_wp(wp)\n",
    "\n",
    "F = DiscreteRV(wp.F_probs)\n",
    "G = DiscreteRV(wp.G_probs)\n",
    "\n",
    "function gen_path(T=20)\n",
    "    i = j = 1\n",
    "    theta_ind = Int[]\n",
    "    epsilon_ind = Int[]\n",
    "    \n",
    "    for t=1:T\n",
    "        # do nothing if stay put\n",
    "        if optimal_policy[i, j] == 2  # new job\n",
    "            j = draw(G)[1]\n",
    "        elseif optimal_policy[i, j] == 3  # new life\n",
    "            i, j = draw(F)[1], draw(G)[1]\n",
    "        end\n",
    "        push!(theta_ind, i)\n",
    "        push!(epsilon_ind, j)\n",
    "    end\n",
    "    return wp.theta[theta_ind], wp.epsilon[epsilon_ind]\n",
    "end\n",
    "\n",
    "fix, axes = subplots(2, 1)\n",
    "for ax in axes\n",
    "    theta_path, epsilon_path = gen_path()\n",
    "    ax[:plot](epsilon_path, label=\"epsilon\")\n",
    "    ax[:plot](theta_path, label=\"theta\")\n",
    "    ax[:legend](loc=\"lower right\")\n",
    "end\n",
    "plt.show()  "
   ]
  },
  {
   "cell_type": "markdown",
   "metadata": {},
   "source": [
    "## Exercise 2\n",
    "\n",
    "The median for the original parameterization can be computed as follows"
   ]
  },
  {
   "cell_type": "code",
   "execution_count": null,
   "metadata": {
    "collapsed": false
   },
   "outputs": [],
   "source": [
    "function gen_first_passage_time(optimal_policy::Matrix)\n",
    "    t = 0\n",
    "    i = j = 1\n",
    "    while true\n",
    "        if optimal_policy[i, j] == 1    # Stay put\n",
    "            return t\n",
    "        elseif optimal_policy[i, j] == 2  # New job\n",
    "            j = draw(G)[1]\n",
    "        else                            # New life\n",
    "            i, j = draw(F)[1], draw(G)[1]\n",
    "        end\n",
    "        t += 1\n",
    "    end\n",
    "end\n",
    "\n",
    "\n",
    "M = 25000\n",
    "samples = Array(Float64, M)\n",
    "for i=1:M\n",
    "    samples[i] = gen_first_passage_time(optimal_policy)\n",
    "end\n",
    "print(median(samples))"
   ]
  },
  {
   "cell_type": "markdown",
   "metadata": {},
   "source": [
    "To compute the median with $\\beta=0.99$ instead of the default value $\\beta=0.95$,\n",
    "replace `wp = CareerWorkerProblem()` with `wp = CareerWorkerProblem(beta=0.99)`\n",
    "\n",
    "The medians are subject to randomness, but should be about 7 and 11\n",
    "respectively.  Not surprisingly, more patient workers will wait longer to settle down to their final job"
   ]
  },
  {
   "cell_type": "markdown",
   "metadata": {},
   "source": [
    "## Exercise 3\n",
    "\n",
    "Here’s the code to reproduce the original figure"
   ]
  },
  {
   "cell_type": "code",
   "execution_count": null,
   "metadata": {
    "collapsed": false
   },
   "outputs": [],
   "source": [
    "function region_plot(wp::CareerWorkerProblem)\n",
    "    v, optimal_policy = solve_wp(wp)\n",
    "    region_plot(optimal_policy)\n",
    "end\n",
    "\n",
    "function region_plot(optimal_policy::Matrix)\n",
    "    fig, ax = subplots()\n",
    "    tg, eg = meshgrid(wp.theta, wp.epsilon)\n",
    "    lvls = [0.5, 1.5, 2.5, 3.5]\n",
    "\n",
    "    ax[:contourf](tg, eg, optimal_policy', levels=lvls, cmap=ColorMap(\"winter\"), \n",
    "                  alpha=0.5)\n",
    "    ax[:contour](tg, eg, optimal_policy', colors=\"k\", levels=lvls, linewidths=2)\n",
    "    ax[:set_xlabel](\"theta\", fontsize=14)\n",
    "    ax[:set_ylabel](\"epsilon\", fontsize=14)\n",
    "    ax[:text](1.8, 2.5, \"new life\", fontsize=14)\n",
    "    ax[:text](4.5, 2.5, \"new job\", fontsize=14, rotation=\"vertical\")\n",
    "    ax[:text](4.0, 4.5, \"stay put\", fontsize=14)\n",
    "end\n",
    "\n",
    "plt.close(\"all\")\n",
    "region_plot(optimal_policy);"
   ]
  },
  {
   "cell_type": "markdown",
   "metadata": {},
   "source": [
    "Now we want to set `G_a = G_b = 100` and generate a new figure with these parameters. \n",
    "\n",
    "To do this replace:\n",
    "\n",
    "    wp = CareerWorkerProblem()\n",
    "\n",
    "with:\n",
    "\n",
    "    wp = CareerWorkerProblem(G_a=100, G_b=100)\n",
    "\n",
    "In the new figure, you will see that the region for which the worker will stay put has grown because the distribution for $\\epsilon$ has become more concentrated around the mean, making high-paying jobs less realistic\n"
   ]
  },
  {
   "cell_type": "code",
   "execution_count": null,
   "metadata": {
    "collapsed": false
   },
   "outputs": [],
   "source": [
    "plt.close(\"all\")\n",
    "region_plot(CareerWorkerProblem(G_a=100, G_b=100));"
   ]
  }
 ],
 "metadata": {
  "kernelspec": {
   "display_name": "Julia 0.4.1",
   "language": "julia",
   "name": "julia-0.4"
  },
  "language_info": {
   "file_extension": ".jl",
   "mimetype": "application/julia",
   "name": "julia",
   "version": "0.4.1"
  }
 },
 "nbformat": 4,
 "nbformat_minor": 0
}
